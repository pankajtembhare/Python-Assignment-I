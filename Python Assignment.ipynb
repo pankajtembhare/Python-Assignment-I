{
 "cells": [
  {
   "cell_type": "markdown",
   "id": "801f63b6",
   "metadata": {},
   "source": [
    "# Python Assignment"
   ]
  },
  {
   "cell_type": "markdown",
   "id": "3f31486a",
   "metadata": {},
   "source": [
    "# Q1 : Which keyword is used to create a function? Create a function to return a list of odd number in the range of 1 to 25."
   ]
  },
  {
   "cell_type": "markdown",
   "id": "7ea2bd56",
   "metadata": {},
   "source": [
    "# Ans)- 'def' keyword is used to create a function in python."
   ]
  },
  {
   "cell_type": "code",
   "execution_count": 1,
   "id": "e22ca684",
   "metadata": {},
   "outputs": [
    {
     "name": "stdout",
     "output_type": "stream",
     "text": [
      "[1, 3, 5, 7, 9, 11, 13, 15, 17, 19, 21, 23, 25]\n"
     ]
    }
   ],
   "source": [
    "import numpy as np\n",
    "def odd_number_list(n_list):\n",
    "    odd_list=[]\n",
    "    for i in n_list :\n",
    "        if(i%2!=0):\n",
    "            odd_list.append(i)\n",
    "    return odd_list\n",
    "\n",
    "l=list(np.arange(1,26))\n",
    "print(odd_number_list(l))\n"
   ]
  },
  {
   "cell_type": "markdown",
   "id": "873235c8",
   "metadata": {},
   "source": [
    "# ."
   ]
  },
  {
   "cell_type": "markdown",
   "id": "68df9fa2",
   "metadata": {},
   "source": [
    "# Q2 : Why *args and **kwargs is used in some functions? Create a function each for * args and **kwargs to demonstrate their used."
   ]
  },
  {
   "cell_type": "markdown",
   "id": "78e26d52",
   "metadata": {},
   "source": [
    "# Ans): *args and **kwargs allow you to pass multiple arguments or keyword arguments to a function.\n",
    "# Consider following example."
   ]
  },
  {
   "cell_type": "code",
   "execution_count": 2,
   "id": "99215a0d",
   "metadata": {},
   "outputs": [
    {
     "name": "stdout",
     "output_type": "stream",
     "text": [
      "10\n"
     ]
    }
   ],
   "source": [
    "def my_sum(a,b):\n",
    "    return a+b\n",
    "print(my_sum(5,5))"
   ]
  },
  {
   "cell_type": "markdown",
   "id": "6f60f600",
   "metadata": {},
   "source": [
    "# This function works fine, but it's limited to only two arguments."
   ]
  },
  {
   "cell_type": "markdown",
   "id": "4d769476",
   "metadata": {},
   "source": [
    "# This is where *args can be raally useful, because it allows you to pass a varying number of positional arguments. Take the following example."
   ]
  },
  {
   "cell_type": "code",
   "execution_count": 3,
   "id": "70aa618e",
   "metadata": {},
   "outputs": [
    {
     "name": "stdout",
     "output_type": "stream",
     "text": [
      "6\n"
     ]
    }
   ],
   "source": [
    "def my_sum(*args):\n",
    "    result=0\n",
    "    for x in args:\n",
    "        result+=x\n",
    "    return result\n",
    "print(my_sum(1,2,3))"
   ]
  },
  {
   "cell_type": "markdown",
   "id": "cb75e226",
   "metadata": {},
   "source": [
    "# **kwargs work just like *args, but instead of accepting positional arguments it accepts keyword(or named) arguments.Take the following example."
   ]
  },
  {
   "cell_type": "code",
   "execution_count": 4,
   "id": "bbc953c5",
   "metadata": {},
   "outputs": [
    {
     "name": "stdout",
     "output_type": "stream",
     "text": [
      "real python is greate !\n"
     ]
    }
   ],
   "source": [
    "def concatenate(**kwargs):\n",
    "    result=\"\"\n",
    "    for x in kwargs.values():\n",
    "        result+=x\n",
    "    return result\n",
    "print(concatenate(a=\"real \",b='python ',c='is ',d='greate ',e='!'))"
   ]
  },
  {
   "cell_type": "markdown",
   "id": "117cf98f",
   "metadata": {},
   "source": [
    "# ."
   ]
  },
  {
   "cell_type": "markdown",
   "id": "e28d9491",
   "metadata": {},
   "source": [
    "# Q3 : What is an iterator in python? Name the method used to initialise the iterator object and the method used for iteration. Used these mothods to print the first five elements of the given list [2,4,6,8,10,12,14,16,18,20]"
   ]
  },
  {
   "cell_type": "markdown",
   "id": "4b7a13a0",
   "metadata": {},
   "source": [
    "# Ans)- Iterator is an object that allow us to iterate over collections of data, such as lists, tuples, dictionaries, and sets."
   ]
  },
  {
   "cell_type": "markdown",
   "id": "d88d3f52",
   "metadata": {},
   "source": [
    "# .__iter__() called to initialize the iterator . It must return an iterator object.\n",
    "# .__next__() Called to iterate over the iterator. It must return the next value in the data stream."
   ]
  },
  {
   "cell_type": "code",
   "execution_count": 5,
   "id": "acd06b4d",
   "metadata": {},
   "outputs": [
    {
     "name": "stdout",
     "output_type": "stream",
     "text": [
      "2\n",
      "4\n",
      "6\n",
      "8\n",
      "10\n"
     ]
    }
   ],
   "source": [
    "l=[2,4,6,8,10,12,14,16,18,20]\n",
    "l_iter=iter(l)\n",
    "for x in range(5):\n",
    "    if x < 5:\n",
    "        print(next(l_iter))"
   ]
  },
  {
   "cell_type": "markdown",
   "id": "aad2f647",
   "metadata": {},
   "source": [
    "# ."
   ]
  },
  {
   "cell_type": "markdown",
   "id": "de711397",
   "metadata": {},
   "source": [
    "# Q4 : What is generator function in python? Why yield keyword is used? give an example of a generator function."
   ]
  },
  {
   "cell_type": "markdown",
   "id": "204bfecd",
   "metadata": {},
   "source": [
    "# Ans)- In Python, a generator is a function that returns an iterator that produces a sequence of values when iterated over. Generators are useful when we want to produce a large sequence of values. but we don't want to store all of them in memory at once."
   ]
  },
  {
   "cell_type": "markdown",
   "id": "0474b60e",
   "metadata": {},
   "source": [
    "# Yield : yield keyword is used to create generator function.The yield keyword will turn any expression that is given with it into a generator object and return it to the caller."
   ]
  },
  {
   "cell_type": "code",
   "execution_count": 6,
   "id": "996dabb2",
   "metadata": {},
   "outputs": [
    {
     "name": "stdout",
     "output_type": "stream",
     "text": [
      "Enter number of terms=10\n",
      "0 1 1 2 3 5 8 13 21 34 "
     ]
    }
   ],
   "source": [
    "def fib():\n",
    "    a,b=0,1\n",
    "    while True :\n",
    "        yield a\n",
    "        b,a=a,a+b\n",
    "n=int(input('Enter number of terms='))\n",
    "x=fib()\n",
    "for _ in range(n):\n",
    "    print(next(x),end=' ')"
   ]
  },
  {
   "cell_type": "markdown",
   "id": "c8b23200",
   "metadata": {},
   "source": [
    "# ."
   ]
  },
  {
   "cell_type": "markdown",
   "id": "339adee8",
   "metadata": {},
   "source": [
    "# Q5 : Create a generator function for prime numbers less than 1000. use the next () method to print the first 20  prime numbers."
   ]
  },
  {
   "cell_type": "code",
   "execution_count": 7,
   "id": "dda1b777",
   "metadata": {},
   "outputs": [
    {
     "name": "stdout",
     "output_type": "stream",
     "text": [
      "Enter number of prime number=20\n",
      "2 3 5 7 11 13 17 19 23 29 31 37 41 43 47 53 59 61 67 71 "
     ]
    }
   ],
   "source": [
    "def prime():\n",
    "    end=1000\n",
    "    n=1\n",
    "    while n<end :\n",
    "        start=0\n",
    "        for start in range(2,n+1):\n",
    "            if(n%start==0):\n",
    "                break\n",
    "        if(start==n):\n",
    "            yield n\n",
    "            n+=1\n",
    "        else :\n",
    "            n+=1\n",
    "            \n",
    "prime_number=prime()\n",
    "\n",
    "term=int(input('Enter number of prime number='))\n",
    "for x in range(term):\n",
    "    print(next(prime_number),end=' ')        "
   ]
  },
  {
   "cell_type": "markdown",
   "id": "3cf3bed6",
   "metadata": {},
   "source": [
    "# ."
   ]
  },
  {
   "cell_type": "markdown",
   "id": "dfbb1b00",
   "metadata": {},
   "source": [
    "# Q6 : Write a python program to print the first 10  fibonacci numbers using a while loop."
   ]
  },
  {
   "cell_type": "code",
   "execution_count": 8,
   "id": "d759d57b",
   "metadata": {},
   "outputs": [
    {
     "name": "stdout",
     "output_type": "stream",
     "text": [
      "0\n",
      "1\n",
      "1\n",
      "2\n",
      "3\n",
      "5\n",
      "8\n",
      "13\n",
      "21\n",
      "34\n"
     ]
    }
   ],
   "source": [
    "a,b=1,0\n",
    "print(b)\n",
    "print(a)\n",
    "n=10\n",
    "count=3\n",
    "while count<=n :\n",
    "    b,a=a,a+b\n",
    "    print(a)\n",
    "    count+=1"
   ]
  },
  {
   "cell_type": "markdown",
   "id": "e30556d0",
   "metadata": {},
   "source": [
    "# Q7 : Write a list comprehension to iterate through the given string: 'pwskills', Expected output:['p','w','s','k','i','l','l','s']"
   ]
  },
  {
   "cell_type": "code",
   "execution_count": 9,
   "id": "0f98588f",
   "metadata": {},
   "outputs": [
    {
     "name": "stdout",
     "output_type": "stream",
     "text": [
      "['p', 'w', 's', 'k', 'i', 'l', 'l', 's']\n"
     ]
    }
   ],
   "source": [
    "List=[i for i in 'pwskills']\n",
    "print(List)"
   ]
  },
  {
   "cell_type": "markdown",
   "id": "08ebdc35",
   "metadata": {},
   "source": [
    "# Q8 : Write a python program to check whether a given number is Palindrome or not using a while loop."
   ]
  },
  {
   "cell_type": "code",
   "execution_count": 10,
   "id": "f6a0ea08",
   "metadata": {},
   "outputs": [
    {
     "name": "stdout",
     "output_type": "stream",
     "text": [
      "Enter a number to check=121\n",
      "number is palindrome\n"
     ]
    }
   ],
   "source": [
    "n=int(input('Enter a number to check='))\n",
    "temp=n\n",
    "add=0\n",
    "while n>0:\n",
    "    r=n%10 \n",
    "    add=add*10+r\n",
    "    n//=10\n",
    "if(add==temp):\n",
    "    print('number is palindrome')\n",
    "else :\n",
    "    print('number is not palindrome')"
   ]
  },
  {
   "cell_type": "markdown",
   "id": "42ba999e",
   "metadata": {},
   "source": [
    "# ."
   ]
  },
  {
   "cell_type": "markdown",
   "id": "be54e70c",
   "metadata": {},
   "source": [
    "# Q9 : White a code to print odd numbers from 1 to 100 using list comprehension."
   ]
  },
  {
   "cell_type": "code",
   "execution_count": 11,
   "id": "41d79744",
   "metadata": {},
   "outputs": [
    {
     "name": "stdout",
     "output_type": "stream",
     "text": [
      "[1, 3, 5, 7, 9, 11, 13, 15, 17, 19, 21, 23, 25, 27, 29, 31, 33, 35, 37, 39, 41, 43, 45, 47, 49, 51, 53, 55, 57, 59, 61, 63, 65, 67, 69, 71, 73, 75, 77, 79, 81, 83, 85, 87, 89, 91, 93, 95, 97, 99]\n"
     ]
    }
   ],
   "source": [
    "odd=[i for i in range(1,100) if i%2!=0]\n",
    "print(odd)"
   ]
  }
 ],
 "metadata": {
  "kernelspec": {
   "display_name": "Python 3 (ipykernel)",
   "language": "python",
   "name": "python3"
  },
  "language_info": {
   "codemirror_mode": {
    "name": "ipython",
    "version": 3
   },
   "file_extension": ".py",
   "mimetype": "text/x-python",
   "name": "python",
   "nbconvert_exporter": "python",
   "pygments_lexer": "ipython3",
   "version": "3.11.1"
  }
 },
 "nbformat": 4,
 "nbformat_minor": 5
}
